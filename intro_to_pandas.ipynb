{
 "cells": [
  {
   "cell_type": "code",
   "execution_count": 1,
   "id": "c714c77c-f03d-4067-b9fc-56bd2d9d4ddf",
   "metadata": {},
   "outputs": [],
   "source": [
    "import pandas as pd"
   ]
  },
  {
   "cell_type": "markdown",
   "id": "832c18e2-ee01-43a3-bcb9-a215d74c0002",
   "metadata": {},
   "source": [
    "## Goals\n",
    "- Find out how many children who were in care in 2017 are still in care in 2018.\n",
    "- Compute the average age when people entered care in 2018"
   ]
  },
  {
   "cell_type": "code",
   "execution_count": 2,
   "id": "b9f97f5d-6a31-433a-8cc8-8a0ebfad0565",
   "metadata": {},
   "outputs": [],
   "source": [
    "# episodes_17 = pd.read_csv(\"data\\2017-episodes.csv\")"
   ]
  },
  {
   "cell_type": "code",
   "execution_count": null,
   "id": "7d9b4a88-76ea-4007-a33a-aafd67e39aed",
   "metadata": {},
   "outputs": [],
   "source": []
  }
 ],
 "metadata": {
  "kernelspec": {
   "display_name": "Python 3 (ipykernel)",
   "language": "python",
   "name": "python3"
  },
  "language_info": {
   "codemirror_mode": {
    "name": "ipython",
    "version": 3
   },
   "file_extension": ".py",
   "mimetype": "text/x-python",
   "name": "python",
   "nbconvert_exporter": "python",
   "pygments_lexer": "ipython3",
   "version": "3.11.5"
  }
 },
 "nbformat": 4,
 "nbformat_minor": 5
}
